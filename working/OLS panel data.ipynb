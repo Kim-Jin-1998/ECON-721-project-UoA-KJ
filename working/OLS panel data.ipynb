{
 "cells": [
  {
   "cell_type": "code",
   "execution_count": 46,
   "id": "13a29499",
   "metadata": {
    "scrolled": true
   },
   "outputs": [
    {
     "name": "stderr",
     "output_type": "stream",
     "text": [
      "\u001b[32m\u001b[1m   Resolving\u001b[22m\u001b[39m package versions...\n",
      "\u001b[32m\u001b[1m  No Changes\u001b[22m\u001b[39m to `~/.julia/environments/v1.8/Project.toml`\n",
      "\u001b[32m\u001b[1m  No Changes\u001b[22m\u001b[39m to `~/.julia/environments/v1.8/Manifest.toml`\n",
      "\u001b[32m\u001b[1m   Resolving\u001b[22m\u001b[39m package versions...\n",
      "\u001b[32m\u001b[1m  No Changes\u001b[22m\u001b[39m to `~/.julia/environments/v1.8/Project.toml`\n",
      "\u001b[32m\u001b[1m  No Changes\u001b[22m\u001b[39m to `~/.julia/environments/v1.8/Manifest.toml`\n",
      "\u001b[32m\u001b[1m   Resolving\u001b[22m\u001b[39m package versions...\n",
      "\u001b[32m\u001b[1m  No Changes\u001b[22m\u001b[39m to `~/.julia/environments/v1.8/Project.toml`\n",
      "\u001b[32m\u001b[1m  No Changes\u001b[22m\u001b[39m to `~/.julia/environments/v1.8/Manifest.toml`\n",
      "\u001b[32m\u001b[1m   Resolving\u001b[22m\u001b[39m package versions...\n",
      "\u001b[32m\u001b[1m  No Changes\u001b[22m\u001b[39m to `~/.julia/environments/v1.8/Project.toml`\n",
      "\u001b[32m\u001b[1m  No Changes\u001b[22m\u001b[39m to `~/.julia/environments/v1.8/Manifest.toml`\n",
      "\u001b[32m\u001b[1m   Resolving\u001b[22m\u001b[39m package versions...\n",
      "\u001b[32m\u001b[1m   Installed\u001b[22m\u001b[39m Chain ────────── v0.5.0\n",
      "\u001b[32m\u001b[1m   Installed\u001b[22m\u001b[39m DataFramesMeta ─ v0.14.0\n",
      "\u001b[32m\u001b[1m    Updating\u001b[22m\u001b[39m `~/.julia/environments/v1.8/Project.toml`\n",
      " \u001b[90m [1313f7d8] \u001b[39m\u001b[92m+ DataFramesMeta v0.14.0\u001b[39m\n",
      "\u001b[32m\u001b[1m    Updating\u001b[22m\u001b[39m `~/.julia/environments/v1.8/Manifest.toml`\n",
      " \u001b[90m [8be319e6] \u001b[39m\u001b[92m+ Chain v0.5.0\u001b[39m\n",
      " \u001b[90m [1313f7d8] \u001b[39m\u001b[92m+ DataFramesMeta v0.14.0\u001b[39m\n",
      "\u001b[32m\u001b[1mPrecompiling\u001b[22m\u001b[39m project...\n",
      "\u001b[32m  ✓ \u001b[39m\u001b[90mChain\u001b[39m\n",
      "\u001b[32m  ✓ \u001b[39mDataFramesMeta\n",
      "  2 dependencies successfully precompiled in 4 seconds. 255 already precompiled.\n"
     ]
    }
   ],
   "source": [
    "import Pkg; Pkg.add(\"StatsBase\")\n",
    "import Pkg; Pkg.add(\"DataFrames\")\n",
    "import Pkg; Pkg.add(\"StatsModels\")\n",
    "import Pkg; Pkg.add(\"Logging\")\n",
    "import Pkg; Pkg.add(\"DataFramesMeta\")"
   ]
  },
  {
   "cell_type": "code",
   "execution_count": 59,
   "id": "0bdd4036",
   "metadata": {
    "scrolled": false
   },
   "outputs": [
    {
     "data": {
      "text/plain": [
       "264-element Vector{Any}:\n",
       " \"Austria\"\n",
       " \"Austria\"\n",
       " \"Austria\"\n",
       " \"Austria\"\n",
       " \"Austria\"\n",
       " \"Austria\"\n",
       " \"Austria\"\n",
       " \"Austria\"\n",
       " \"Austria\"\n",
       " \"Austria\"\n",
       " \"Austria\"\n",
       " \"Austria\"\n",
       " \"Bulgaria\"\n",
       " ⋮\n",
       " \"Sweden\"\n",
       " \"Sweden\"\n",
       " \"Sweden\"\n",
       " \"Sweden\"\n",
       " \"Sweden\"\n",
       " \"Sweden\"\n",
       " \"Sweden\"\n",
       " \"Sweden\"\n",
       " \"Sweden\"\n",
       " \"Sweden\"\n",
       " \"Sweden\"\n",
       " \"Sweden\""
      ]
     },
     "execution_count": 59,
     "metadata": {},
     "output_type": "execute_result"
    }
   ],
   "source": [
    "\n",
    "using Printf,Plots, Dates, CSV, DelimitedFiles, StatsBase,ForwardDiff, StatsModels, DataFrames, Statistics, LinearAlgebra, Optim, NLsolve, FiniteDiff, ShiftedArrays, Logging, DataFramesMeta\n",
    "\n",
    "df = readdlm(\"data_f.csv\",',',skipstart=1) \n",
    "country = data[:,1]\n",
    "date = data[:,2]\n",
    "price_eur_m_whe = data[:,3]\n",
    "gwh = data[:,4]\n",
    "cp_meur_nsa_b1g = data[:,5]\n",
    "cp_meur_nsa_d1 = data[:,6]\n",
    "cp_meur_nsa_d11 = data[:,7]\n",
    "cp_meur_nsa_p6 = data[:,8]\n",
    "cp_meur_nsa_p7 = data[:,9]\n",
    "ths_hw_b_e_nsa_emp_dc = data[:,10]\n",
    "ths_hw_c_nsa_emp_dc = data[:,11]\n",
    "ths_hw_j_nsa_emp_dc = data[:,12]\n",
    "ths_hw_g_i_nsa_emp_dc = data[:,13]\n",
    "ths_hw_total_nsa_emp_dc = data[:,14]\n",
    "avg_nac_usd = data[:,15]\n",
    "imp_e7000_gwh = data[:,16]\n",
    "exp_e7000_gwh = data[:,17]\n",
    "\n",
    "\n",
    "\n",
    "lagprice = price_eur_m_whe .- lag(price_eur_m_whe,1)\n",
    "lagprice\n",
    "\n",
    "\n",
    "loggwh = log.(gwh)\n",
    "logths_hw_b_e_nsa_emp_dc = log.(ths_hw_b_e_nsa_emp_dc)\n",
    "logths_hw_c_nsa_emp_dc = log.(ths_hw_c_nsa_emp_dc)\n",
    "logths_hw_j_nsa_emp_dc = log.(ths_hw_j_nsa_emp_dc)\n",
    "logths_hw_g_i_nsa_emp_dc = log.(ths_hw_g_i_nsa_emp_dc)\n",
    "logths_hw_total_nsa_emp_dc = log.(ths_hw_total_nsa_emp_dc)\n",
    "logexp_e7000_gwh = log.(exp_e7000_gwh)\n",
    "\n",
    "country\n"
   ]
  },
  {
   "cell_type": "code",
   "execution_count": 73,
   "id": "a1421e6a",
   "metadata": {},
   "outputs": [
    {
     "data": {
      "text/plain": [
       "264-element Vector{Float64}:\n",
       "  9.800320185723825\n",
       "  9.636995379966901\n",
       "  9.641708416847399\n",
       "  9.759936415220782\n",
       "  9.783109277156518\n",
       "  9.656933987624686\n",
       "  9.647090299990639\n",
       "  9.751076192548096\n",
       "  9.762221754937338\n",
       "  9.548111050970412\n",
       "  9.62057342866407\n",
       "  9.751047658480017\n",
       "  9.070017972574322\n",
       "  ⋮\n",
       " 10.598932590997272\n",
       " 10.258120312636214\n",
       " 10.179293760233644\n",
       " 10.469296693434565\n",
       " 10.541657820404218\n",
       " 10.254674917215782\n",
       " 10.180206372552842\n",
       " 10.459475338653178\n",
       " 10.499617647356311\n",
       " 10.250583160794472\n",
       " 10.14555452122531\n",
       " 10.398464852432694"
      ]
     },
     "execution_count": 73,
     "metadata": {},
     "output_type": "execute_result"
    }
   ],
   "source": [
    "\n",
    "function convert_to_date(date)\n",
    "    year, quarter = split(date)\n",
    "end\n",
    "\n",
    "dateN = convert_to_date.(date)\n",
    "df\n"
   ]
  },
  {
   "cell_type": "code",
   "execution_count": 81,
   "id": "6bbfe264",
   "metadata": {},
   "outputs": [
    {
     "ename": "LoadError",
     "evalue": "ArgumentError: unable to check bounds for indices of type SubString{String}",
     "output_type": "error",
     "traceback": [
      "ArgumentError: unable to check bounds for indices of type SubString{String}",
      "",
      "Stacktrace:",
      " [1] checkindex(#unused#::Type{Bool}, inds::Base.OneTo{Int64}, i::SubString{String})",
      "   @ Base ./abstractarray.jl:725",
      " [2] checkindex",
      "   @ ./abstractarray.jl:740 [inlined]",
      " [3] checkbounds",
      "   @ ./abstractarray.jl:653 [inlined]",
      " [4] checkbounds",
      "   @ ./abstractarray.jl:668 [inlined]",
      " [5] _getindex",
      "   @ ./multidimensional.jl:874 [inlined]",
      " [6] getindex(A::Matrix{Any}, I::Vector{Any})",
      "   @ Base ./abstractarray.jl:1241",
      " [7] top-level scope",
      "   @ ./In[81]:3"
     ]
    }
   ],
   "source": [
    "p = plot(legend = :outertopright)\n",
    "\n",
    "for country in unique(df[country])\n",
    "    country_df = df[df[:, country] .== country]\n",
    "    plot!(p, country_df[dateN], country_df[:, :price_eur_m_whe], label = country)\n",
    "end\n",
    "\n",
    "display(p)\n"
   ]
  },
  {
   "cell_type": "code",
   "execution_count": null,
   "id": "6fe6ff05",
   "metadata": {},
   "outputs": [],
   "source": []
  },
  {
   "cell_type": "code",
   "execution_count": 129,
   "id": "a3479a8c",
   "metadata": {},
   "outputs": [
    {
     "ename": "LoadError",
     "evalue": "SingularException(1)",
     "output_type": "error",
     "traceback": [
      "SingularException(1)",
      "",
      "Stacktrace:",
      " [1] ldiv!(B::Matrix{Float64}, D::Diagonal{Float64, Vector{Float64}}, A::Matrix{Float64})",
      "   @ LinearAlgebra /Applications/Julia-1.8.app/Contents/Resources/julia/share/julia/stdlib/v1.8/LinearAlgebra/src/diagonal.jl:435",
      " [2] \\(D::Diagonal{Float64, Vector{Float64}}, B::Matrix{Float64})",
      "   @ LinearAlgebra /Applications/Julia-1.8.app/Contents/Resources/julia/share/julia/stdlib/v1.8/LinearAlgebra/src/diagonal.jl:422",
      " [3] \\(A::Matrix{Float64}, B::Matrix{Float64})",
      "   @ LinearAlgebra /Applications/Julia-1.8.app/Contents/Resources/julia/share/julia/stdlib/v1.8/LinearAlgebra/src/generic.jl:1102",
      " [4] top-level scope",
      "   @ In[129]:10"
     ]
    }
   ],
   "source": [
    "y = [dateN price_eur_m_whe]\n",
    "x = [lagprice loggwh logths_hw_b_e_nsa_emp_dc logths_hw_c_nsa_emp_dc logths_hw_j_nsa_emp_dc logths_hw_g_i_nsa_emp_dc logths_hw_total_nsa_emp_dc logexp_e7000_gwh]\n",
    "N = size(y,1) #population\n",
    "T = 11\n",
    "T\n"
   ]
  },
  {
   "cell_type": "code",
   "execution_count": 130,
   "id": "a070e756",
   "metadata": {},
   "outputs": [
    {
     "ename": "LoadError",
     "evalue": "DimensionMismatch: arrays could not be broadcast to a common size; got a dimension with lengths 2 and 8",
     "output_type": "error",
     "traceback": [
      "DimensionMismatch: arrays could not be broadcast to a common size; got a dimension with lengths 2 and 8",
      "",
      "Stacktrace:",
      " [1] _bcs1",
      "   @ ./broadcast.jl:516 [inlined]",
      " [2] _bcs (repeats 2 times)",
      "   @ ./broadcast.jl:510 [inlined]",
      " [3] broadcast_shape",
      "   @ ./broadcast.jl:504 [inlined]",
      " [4] combine_axes",
      "   @ ./broadcast.jl:499 [inlined]",
      " [5] instantiate",
      "   @ ./broadcast.jl:281 [inlined]",
      " [6] materialize(bc::Base.Broadcast.Broadcasted{Base.Broadcast.DefaultArrayStyle{2}, Nothing, Base.Broadcast.var\"#41#42\"{Base.Pairs{Symbol, Int64, Tuple{Symbol}, NamedTuple{(:m,), Tuple{Int64}}}, typeof(PanelOls)}, Tuple{Matrix{Any}, Matrix{Union{Missing, Float64}}}})",
      "   @ Base.Broadcast ./broadcast.jl:860",
      " [7] top-level scope",
      "   @ In[130]:84"
     ]
    }
   ],
   "source": [
    "function PanelOls(y,x,m=1,vvM=[])\n",
    "\n",
    "\n",
    "  K     = size(x,2)  #TxKxN\n",
    "    \n",
    "    vvM = trues(T,N)   #handling of NaN/missing\n",
    "  Nobs = sum(vvM,dims=22)\n",
    "\n",
    "\n",
    "  xx  = zeros(K,K)                     #Sum[x(t)*x(t)',t=1:T]\n",
    "  xy  = zeros(K,1)                     #Sum[x(t)*y(t),t=1:T]\n",
    "  for t = 1:T                             #loop over time\n",
    "    y_t = y[t,:]                          #dependent variable, Nx1\n",
    "    x_t = x[t,:,:]'                       #regressors, NxK\n",
    "    xx .= xx .+ x_t'x_t/N\n",
    "    xy .= xy .+ x_t'y_t/N\n",
    "  end\n",
    "\n",
    "    xx    = xx/T\n",
    "  xy    = xy/T\n",
    "  theta = xx\\xy                           #ols estimates, solves xx*theta = xy\n",
    "\n",
    "  yhat = fill(NaN,(T,N))                  #fitted values\n",
    "  for i = 1:N                             #loop over cross section\n",
    "    yhat[:,i] = x[:,:,i]*theta\n",
    "  end\n",
    "  r = y - yhat                            #fitted residuals\n",
    "\n",
    "  h = fill(NaN,T,K,N)                     #moment conditions for individual\n",
    "  for i = 1:N\n",
    "    h[:,:,i]   = r[:,i].*x[:,:,i]/N\n",
    "  end\n",
    "  h_tM = dropdims(sum(h,dims=3),dims=3)   #TxK, moment conditions, aggregated over all\n",
    "\n",
    "  hG_tM = fill(NaN,T,K,G)                 #moment conditions, aggregated to clusters\n",
    "  for g = 1:G                             #loop over clusters\n",
    "    vvg          = vvClust[:,g]\n",
    "    hG_tM[:,:,g] = sum(h[:,:,vvg],dims=3)\n",
    "  end\n",
    "    \n",
    "    s2 = sum(abs2,r)/N^2\n",
    "\n",
    "  (omega0DK,omega0W,omega0C) = [zeros(K,K) for i=1:3]       #DK lag 0,White's,cluster\n",
    "  (omega1DK,omega1W,omega1C) = [zeros(K,K,1) for i=1:3]     #lags 1 to m\n",
    "  for t = 1:T                                               #loop over time\n",
    "    h_it = h[t,:,:]                                         #moment conditions, KxN\n",
    "    h_t  = h_tM[t,:]                                        #Kx1\n",
    "    omega0DK .= omega0DK .+ h_t*h_t'                        #Kx1 * 1xK\n",
    "    omega0W  .= omega0W  .+ h_it*h_it'                      #KxN * NxK\n",
    "    for g = 1:G                                             #loop over clusters\n",
    "      omega0C .= omega0C + hG_tM[t,:,g]*hG_tM[t,:,g]'       #Kx1 * 1xK\n",
    "    end\n",
    "    for j = 1:min(t-1,m)                                    #0,1,2,2,... for m=2\n",
    "      omegajDK[:,:,j] = omegajDK[:,:,j] + h_t*h_tM[t-j,:]'  #h(t)*h(t-j)'\n",
    "      omegajW[:,:,j]  = omegajW[:,:,j]  + h_it*h[t-j,:,:]'\n",
    "      for g = 1:G                                           #loop over clusters\n",
    "        omegajC[:,:,j] = omegajC[:,:,j] + hG_tM[t,:,g]*hG_tM[t-j,:,g]'   #Kx1 * 1xK\n",
    "      end\n",
    "    end\n",
    "  end\n",
    "\n",
    "    \n",
    "    ShatDK = NWCovPs(omega0DK,omegajDK,T)          #estimate of S, DK\n",
    "  ShatC  = NWCovPs(omega0C, omegajC, T)          #estimate of S, cluster\n",
    "  ShatW  = NWCovPs(omega0W, omegajW, T)          #estimate of S, White's\n",
    "  s2     = s2/T^2\n",
    "\n",
    "  xx_1  = inv(xx)\n",
    "  CovDK = xx_1 * ShatDK  * xx_1'                  #covariance matrix, DK\n",
    "  CovC  = xx_1 * ShatC   * xx_1'                  #covariance matrix, cluster\n",
    "  CovW  = xx_1 * ShatW   * xx_1'                  #covariance matrix, White's\n",
    "  CovLS = xx_1 * s2                               #covariance matrix, LS\n",
    "\n",
    " R2  = cor(vec(y[vvM]),vec(yhat[vvM]))^2\n",
    "any(.!vvM) && (yhat[.!vvM] .= NaN)              #0 -> NaN\n",
    "\n",
    "  fnOutput = (;theta,CovDK,CovC,CovW,CovLS,R2,yhat,Nobs)\n",
    "\n",
    "  return fnOutput\n",
    "    \n",
    "    \n",
    "end\n",
    "   \n",
    "results = PanelOls.(y, x,m=1) # replace y, x, m, clust, vvM with your actual input\n",
    "println(\"Theta: \", results.theta)\n",
    "println(\"CovDK: \", results.CovDK)\n",
    "println(\"CovC: \", results.CovC)\n",
    "println(\"CovW: \", results.CovW)\n",
    "println(\"CovLS: \", results.CovLS)\n",
    "println(\"R2: \", results.R2)\n",
    "println(\"yhat: \", results.yhat)\n",
    "println(\"Nobs: \", results.Nobs)"
   ]
  },
  {
   "cell_type": "code",
   "execution_count": 8,
   "id": "94f254b7",
   "metadata": {},
   "outputs": [
    {
     "ename": "LoadError",
     "evalue": "UndefVarError: omega0 not defined",
     "output_type": "error",
     "traceback": [
      "UndefVarError: omega0 not defined",
      "",
      "Stacktrace:",
      " [1] top-level scope",
      "   @ In[8]:10"
     ]
    }
   ],
   "source": [
    "function NWCovPs(omega0,omegaj,T)\n",
    "  m = size(omegaj,3)\n",
    "  Shat = omega0/T^2\n",
    "  for j = 1:m\n",
    "    Shat .= Shat .+ (1-j/(m+1))*(omegaj[:,:,j] + omegaj[:,:,j]')/T^2\n",
    "  end\n",
    "  return Shat\n",
    "end\n",
    "\n",
    "NWCOV = NWCovPs(omega0,omegaj,T)\n",
    "println(\"CovDK: \", results.Shat)"
   ]
  },
  {
   "cell_type": "code",
   "execution_count": 6,
   "id": "8e503344",
   "metadata": {},
   "outputs": [
    {
     "data": {
      "text/plain": [
       "FindNNPanel (generic function with 1 method)"
      ]
     },
     "execution_count": 6,
     "metadata": {},
     "output_type": "execute_result"
    }
   ],
   "source": [
    "function FindNNPanel(y,x)\n",
    "  (T,K,N) = size(x)\n",
    "  vv = falses(T,N)\n",
    "  for i = 1:N\n",
    "    vv[:,i] = FindNNPs(view(y,:,i),view(x,:,:,i))\n",
    "  end\n",
    "  return vv\n",
    "end"
   ]
  },
  {
   "cell_type": "code",
   "execution_count": 7,
   "id": "8cee2031",
   "metadata": {},
   "outputs": [
    {
     "data": {
      "text/plain": [
       "replaceNaNinYX! (generic function with 1 method)"
      ]
     },
     "execution_count": 7,
     "metadata": {},
     "output_type": "execute_result"
    }
   ],
   "source": [
    "function replaceNaNinYX!(Y,X)\n",
    "\n",
    "  N = size(Y,2)\n",
    "\n",
    "  vvM = FindNNPanel(Y,X)              #TxN, rows that have no NaNs/missings\n",
    "\n",
    "  for i = 1:N                         #loop over cross-section\n",
    "    vvi         = .!vvM[:,i]          #rows that should be set to 0.0\n",
    "    Y[vvi,i]   .= 0.0\n",
    "    X[vvi,:,i] .= 0.0\n",
    "  end\n",
    "\n",
    "  return vvM\n",
    "\n",
    "end"
   ]
  },
  {
   "cell_type": "code",
   "execution_count": 62,
   "id": "e6132651",
   "metadata": {},
   "outputs": [
    {
     "ename": "LoadError",
     "evalue": "DimensionMismatch: arrays could not be broadcast to a common size; got a dimension with lengths 2 and 8",
     "output_type": "error",
     "traceback": [
      "DimensionMismatch: arrays could not be broadcast to a common size; got a dimension with lengths 2 and 8",
      "",
      "Stacktrace:",
      " [1] _bcs1",
      "   @ ./broadcast.jl:516 [inlined]",
      " [2] _bcs (repeats 2 times)",
      "   @ ./broadcast.jl:510 [inlined]",
      " [3] broadcast_shape",
      "   @ ./broadcast.jl:504 [inlined]",
      " [4] combine_axes",
      "   @ ./broadcast.jl:499 [inlined]",
      " [5] instantiate",
      "   @ ./broadcast.jl:281 [inlined]",
      " [6] materialize(bc::Base.Broadcast.Broadcasted{Base.Broadcast.DefaultArrayStyle{2}, Nothing, Base.Broadcast.var\"#41#42\"{Base.Pairs{Symbol, Symbol, Tuple{Symbol}, NamedTuple{(:FEType,), Tuple{Symbol}}}, typeof(FixedEffects)}, Tuple{Matrix{Any}, Matrix{Union{Missing, Float64}}}})",
      "   @ Base.Broadcast ./broadcast.jl:860",
      " [7] top-level scope",
      "   @ In[62]:51"
     ]
    }
   ],
   "source": [
    "#Fix effect\n",
    "function FixedEffects(y0,x0,FEType=:id)\n",
    "\n",
    "  (T,N) = (size(y0,1),size(y0,2))\n",
    "  K     = size(x0,2)            #TxKxN\n",
    "\n",
    "  vvt = falses(T,N)\n",
    "  for i = 1:N\n",
    "    vvt[:,i] = FindNNPs(view(y0,:,i),view(x0,:,:,i))    #use (t,i) data or not\n",
    "  end\n",
    "\n",
    "  if in(FEType,[:id,:idt])                            #individual fixed effects\n",
    "    (yAvg_i,xAvg_i) = (fill(NaN,1,N),fill(NaN,1,K,N))\n",
    "    for i = 1:N              #loop over cross section\n",
    "      vv            = vvt[:,i]\n",
    "      yAvg_i[1,i]   = mean(view(y0,vv,i))\n",
    "      xAvg_i[1,:,i] = mean(view(x0,vv,:,i),dims=1)\n",
    "    end\n",
    "  end\n",
    "\n",
    "  if in(FEType,[:idt,:t])                              #time fixed effects\n",
    "    (yAvg_t,xAvg_t) = (fill(NaN,T),fill(NaN,T,K))\n",
    "    for t = 1:T              #loop over time\n",
    "      vv          = vvt[t,:]\n",
    "      yAvg_t[t]   = mean(view(y0,t,vv))\n",
    "      xAvg_t[t,:] = mean(view(x0,t,:,vv),dims=2)\n",
    "    end\n",
    "    yAvg = mean(y0[vvt])                                  #grand mean of y\n",
    "    xAvg = permutedims([mean(x0[:,k,:][vvt]) for k=1:K])  #grand means of each of x\n",
    "  end\n",
    "\n",
    "  if FEType == :id\n",
    "    y = y0 .- yAvg_i                     #subtract fixed individual effects\n",
    "    x = x0 .- xAvg_i\n",
    "    (yAvg_t,xAvg_t,yAvg,xAvg,N_t) = (NaN,NaN,NaN,NaN,NaN)\n",
    "  elseif FEType == :idt\n",
    "    y = y0 .- yAvg_i .- yAvg_t .+ yAvg   #subtract individual and time fixed effects\n",
    "    x = x0 .- xAvg_i .- xAvg_t .+ xAvg\n",
    "  elseif FEType == :t\n",
    "    y = y0 .- yAvg_t                     #subtract time fixed effects\n",
    "    x = x0 .- xAvg_t\n",
    "    (yAvg_i,xAvg_i) = (NaN,NaN)\n",
    "  end\n",
    "\n",
    "  yxAvg = (;yAvg_i,xAvg_i,yAvg_t,xAvg_t,yAvg,xAvg,vvt)\n",
    "\n",
    "  return y, x, yxAvg\n",
    "\n",
    "end\n",
    "\n",
    "FixedEffects.(y,x,FEType=:id)"
   ]
  }
 ],
 "metadata": {
  "kernelspec": {
   "display_name": "Julia 1.8.5",
   "language": "julia",
   "name": "julia-1.8"
  },
  "language_info": {
   "file_extension": ".jl",
   "mimetype": "application/julia",
   "name": "julia",
   "version": "1.8.5"
  }
 },
 "nbformat": 4,
 "nbformat_minor": 5
}
